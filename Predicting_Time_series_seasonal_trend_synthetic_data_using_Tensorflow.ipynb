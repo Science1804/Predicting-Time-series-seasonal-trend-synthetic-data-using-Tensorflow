{
  "nbformat": 4,
  "nbformat_minor": 0,
  "metadata": {
    "colab": {
      "name": "Predicting-Time-series-seasonal-trend-synthetic-data-using-Tensorflow.ipynb",
      "provenance": []
    },
    "kernelspec": {
      "name": "python3",
      "display_name": "Python 3"
    }
  },
  "cells": [
    {
      "cell_type": "code",
      "metadata": {
        "id": "GWXrgljNZGSg",
        "colab_type": "code",
        "colab": {}
      },
      "source": [
        "import tensorflow as tf\n",
        "import numpy as np\n",
        "import matplotlib.pyplot as plt\n",
        "%matplotlib inline"
      ],
      "execution_count": null,
      "outputs": []
    },
    {
      "cell_type": "code",
      "metadata": {
        "id": "HjIiQ684ZepY",
        "colab_type": "code",
        "colab": {}
      },
      "source": [
        "def plot_series(time,series,format='-',start = 0 , end=None):\n",
        "  plt.plot(time[start:end],series[start:end],format)\n",
        "  plt.xlabel('Time')\n",
        "  plt.ylabel('Value')\n",
        "  plt.grid(True)"
      ],
      "execution_count": null,
      "outputs": []
    },
    {
      "cell_type": "code",
      "metadata": {
        "id": "I1Agk_vMaxoi",
        "colab_type": "code",
        "colab": {}
      },
      "source": [
        "def trend(time,slope=0):\n",
        "  return slope*time"
      ],
      "execution_count": null,
      "outputs": []
    },
    {
      "cell_type": "code",
      "metadata": {
        "id": "Ug1-FiOka1zC",
        "colab_type": "code",
        "colab": {}
      },
      "source": [
        "def seasonal_pattern(season_time):\n",
        "  return np.where(season_time<0.4,\n",
        "                  np.cos(season_time*2*np.pi),1/np.exp(3*season_time))"
      ],
      "execution_count": null,
      "outputs": []
    },
    {
      "cell_type": "code",
      "metadata": {
        "id": "OY2QM_fGbzx7",
        "colab_type": "code",
        "colab": {}
      },
      "source": [
        "def seasonality(time,period,amplitude=1,phase=0):\n",
        "  season_time = ((time+phase) % period) / period\n",
        "  return amplitude*seasonal_pattern(season_time) "
      ],
      "execution_count": null,
      "outputs": []
    },
    {
      "cell_type": "code",
      "metadata": {
        "id": "4ODsSmaicFaC",
        "colab_type": "code",
        "colab": {}
      },
      "source": [
        "def noise(time,noise_level=1,seed=None):\n",
        "  rnd =np.random.RandomState(seed)\n",
        "  return rnd.randn(len(time))*noise_level"
      ],
      "execution_count": null,
      "outputs": []
    },
    {
      "cell_type": "code",
      "metadata": {
        "id": "RZsyeT5-caQ6",
        "colab_type": "code",
        "colab": {}
      },
      "source": [
        "time = np.arange(10*365 + 1 , dtype='float32')\n",
        "baseline = 10\n",
        "amplitude = 40 \n",
        "slope = 0.05\n",
        "noise_level = 3"
      ],
      "execution_count": null,
      "outputs": []
    },
    {
      "cell_type": "code",
      "metadata": {
        "id": "CHim9OlrdMNB",
        "colab_type": "code",
        "colab": {}
      },
      "source": [
        "series = baseline + trend(time,slope) + seasonality(time,period=365,amplitude=amplitude)\n",
        "series += noise(time,noise_level,seed=51)"
      ],
      "execution_count": null,
      "outputs": []
    },
    {
      "cell_type": "code",
      "metadata": {
        "id": "-ZcORij0dmvC",
        "colab_type": "code",
        "colab": {}
      },
      "source": [
        "split_time = 3000\n",
        "time_train = time[:split_time]\n",
        "x_train = series[:split_time]\n",
        "time_valid = time[split_time:]\n",
        "x_valid = series[split_time:]"
      ],
      "execution_count": null,
      "outputs": []
    },
    {
      "cell_type": "code",
      "metadata": {
        "id": "KtHX92dSd15D",
        "colab_type": "code",
        "colab": {
          "base_uri": "https://localhost:8080/",
          "height": 279
        },
        "outputId": "375da1ad-5f7e-489a-bb22-913480087767"
      },
      "source": [
        "\n",
        "plot_series(time,series)"
      ],
      "execution_count": null,
      "outputs": [
        {
          "output_type": "display_data",
          "data": {
            "image/png": "[encoded data removed]",
            "text/plain": [
              "<Figure size 432x288 with 1 Axes>"
            ]
          },
          "metadata": {
            "tags": [],
            "needs_background": "light"
          }
        }
      ]
    },
    {
      "cell_type": "code",
      "metadata": {
        "id": "8ZbbbMYceVQi",
        "colab_type": "code",
        "colab": {}
      },
      "source": [
        "#the above is the plot of the synthetic data"
      ],
      "execution_count": null,
      "outputs": []
    },
    {
      "cell_type": "code",
      "metadata": {
        "id": "eBAHl1-Xg7Qq",
        "colab_type": "code",
        "colab": {}
      },
      "source": [
        "def windowed_dataset(series,window_size,batch_size,shuffle_buffer):\n",
        "  dataset = tf.data.Dataset.from_tensor_slices(series)\n",
        "  dataset = dataset.window(window_size+1,shift=1,drop_remainder=True)\n",
        "  dataset = dataset.flat_map(lambda window: window.batch(batch_size))\n",
        "  dataset = dataset.shuffle(shuffle_buffer).map(lambda window: (window[:-1],window[-1:]))\n",
        "  dataset = dataset.batch(batch_size).prefetch(1)\n",
        "  return dataset"
      ],
      "execution_count": null,
      "outputs": []
    },
    {
      "cell_type": "code",
      "metadata": {
        "id": "pA0ROt4pjOlE",
        "colab_type": "code",
        "colab": {}
      },
      "source": [
        "window_size = 20\n",
        "batch_size = 32\n",
        "shuffle_buffer_size = 1000"
      ],
      "execution_count": null,
      "outputs": []
    },
    {
      "cell_type": "code",
      "metadata": {
        "id": "efRhRQxEjFD4",
        "colab_type": "code",
        "colab": {}
      },
      "source": [
        "dataset = windowed_dataset(x_train,window_size,batch_size,shuffle_buffer_size)"
      ],
      "execution_count": null,
      "outputs": []
    },
    {
      "cell_type": "code",
      "metadata": {
        "id": "6tX46yeIjUWi",
        "colab_type": "code",
        "colab": {
          "base_uri": "https://localhost:8080/",
          "height": 35
        },
        "outputId": "38b91ddb-05c6-4903-f0e3-fe8db1b10544"
      },
      "source": [
        "print(dataset)"
      ],
      "execution_count": null,
      "outputs": [
        {
          "output_type": "stream",
          "text": [
            "<PrefetchDataset shapes: ((None, None), (None, None)), types: (tf.float32, tf.float32)>\n"
          ],
          "name": "stdout"
        }
      ]
    },
    {
      "cell_type": "code",
      "metadata": {
        "id": "qKV8TxTiji0a",
        "colab_type": "code",
        "colab": {}
      },
      "source": [
        "#haha Cause Tensorflow works as a graph it isn't executed yet"
      ],
      "execution_count": null,
      "outputs": []
    },
    {
      "cell_type": "code",
      "metadata": {
        "id": "54OaiVQCjpyS",
        "colab_type": "code",
        "colab": {}
      },
      "source": [
        "#Now Creating a Model \n",
        "model = tf.keras.Sequential([\n",
        "                             tf.keras.layers.Dense(100,activation='relu',input_shape=[window_size]),\n",
        "                             tf.keras.layers.Dense(10,activation='relu'),\n",
        "                             tf.keras.layers.Dense(1)\n",
        "])"
      ],
      "execution_count": null,
      "outputs": []
    },
    {
      "cell_type": "code",
      "metadata": {
        "id": "6rASCkNvkAkb",
        "colab_type": "code",
        "colab": {}
      },
      "source": [
        "model.compile(loss='mse',optimizer=tf.keras.optimizers.SGD(lr=1e-6,momentum=0.9))"
      ],
      "execution_count": null,
      "outputs": []
    },
    {
      "cell_type": "code",
      "metadata": {
        "id": "WHQLKBX6kMd7",
        "colab_type": "code",
        "colab": {}
      },
      "source": [
        "history = model.fit(dataset,epochs=100,verbose=0)"
      ],
      "execution_count": null,
      "outputs": []
    },
    {
      "cell_type": "code",
      "metadata": {
        "id": "qgFCpr7XkZ6K",
        "colab_type": "code",
        "colab": {}
      },
      "source": [
        "forecast = []\n",
        "for time in range(len(series)-window_size):\n",
        "  forecast.append(model.predict(series[time:time+window_size][np.newaxis]))"
      ],
      "execution_count": null,
      "outputs": []
    },
    {
      "cell_type": "code",
      "metadata": {
        "id": "xVa_CqO7ku3j",
        "colab_type": "code",
        "colab": {}
      },
      "source": [
        "forecast = forecast[split_time-window_size:]\n",
        "result = np.array(forecast)[:,0,0]\n",
        "plt.figure(figsize=(10,6))\n",
        "plot_series(time_valid,x_valid)\n",
        "plot_series(time_valid,result)\n",
        "plt.show()"
      ],
      "execution_count": null,
      "outputs": []
    },
    {
      "cell_type": "code",
      "metadata": {
        "id": "P3Ht8vE5lJgS",
        "colab_type": "code",
        "colab": {}
      },
      "source": [
        ""
      ],
      "execution_count": null,
      "outputs": []
    }
  ]
}